{
  "cells": [
    {
      "cell_type": "markdown",
      "metadata": {
        "id": "TSOYtnv6Bbr2"
      },
      "source": [
        "# Importing Libraries\n"
      ]
    },
    {
      "cell_type": "code",
      "execution_count": 13,
      "metadata": {
        "id": "n8X-hPHTrAqG"
      },
      "outputs": [],
      "source": [
        "!pip install -q pgmpy\n",
        "import numpy as np\n",
        "import matplotlib.pyplot as plt\n",
        "import pandas as pd\n",
        "import scipy\n",
        "import warnings\n",
        "import seaborn as sns\n",
        "from sklearn.model_selection import train_test_split\n",
        "from sklearn.metrics import accuracy_score, precision_score, recall_score, f1_score, roc_auc_score\n",
        "from sklearn.model_selection import GridSearchCV, RandomizedSearchCV\n",
        "from sklearn.linear_model import LogisticRegression\n",
        "from sklearn.naive_bayes import GaussianNB\n",
        "from sklearn.tree import DecisionTreeClassifier\n",
        "from sklearn.neural_network import MLPClassifier\n",
        "from sklearn.svm import SVC\n",
        "from sklearn.preprocessing import StandardScaler,LabelEncoder\n",
        "from sklearn.exceptions import ConvergenceWarning\n",
        "from pgmpy.models import BayesianNetwork\n",
        "from pgmpy.estimators import BayesianEstimator\n",
        "from pgmpy.estimators import MaximumLikelihoodEstimator\n",
        "from pgmpy.inference import VariableElimination\n",
        "\n",
        "\n",
        "warnings.filterwarnings(\"ignore\")"
      ]
    },
    {
      "cell_type": "markdown",
      "metadata": {
        "id": "_EdQkghxBqld"
      },
      "source": [
        "# Data Preprocessing"
      ]
    },
    {
      "cell_type": "markdown",
      "metadata": {
        "id": "o-mLxezDB8qv"
      },
      "source": [
        "**Importing the dataset**"
      ]
    },
    {
      "cell_type": "code",
      "execution_count": 14,
      "metadata": {
        "colab": {
          "base_uri": "https://localhost:8080/",
          "height": 342
        },
        "id": "tWiiUKMksg-D",
        "outputId": "91f7ec11-9377-4195-e40d-34859dea36e4"
      },
      "outputs": [
        {
          "data": {
            "application/vnd.google.colaboratory.intrinsic+json": {
              "type": "dataframe",
              "variable_name": "df"
            },
            "text/html": [
              "\n",
              "  <div id=\"df-94cccbb1-4ff1-41fe-888b-b9515df4abc0\" class=\"colab-df-container\">\n",
              "    <div>\n",
              "<style scoped>\n",
              "    .dataframe tbody tr th:only-of-type {\n",
              "        vertical-align: middle;\n",
              "    }\n",
              "\n",
              "    .dataframe tbody tr th {\n",
              "        vertical-align: top;\n",
              "    }\n",
              "\n",
              "    .dataframe thead th {\n",
              "        text-align: right;\n",
              "    }\n",
              "</style>\n",
              "<table border=\"1\" class=\"dataframe\">\n",
              "  <thead>\n",
              "    <tr style=\"text-align: right;\">\n",
              "      <th></th>\n",
              "      <th>Date</th>\n",
              "      <th>Location</th>\n",
              "      <th>MinTemp</th>\n",
              "      <th>MaxTemp</th>\n",
              "      <th>Rainfall</th>\n",
              "      <th>Evaporation</th>\n",
              "      <th>Sunshine</th>\n",
              "      <th>WindGustDir</th>\n",
              "      <th>WindGustSpeed</th>\n",
              "      <th>WindDir9am</th>\n",
              "      <th>...</th>\n",
              "      <th>Humidity9am</th>\n",
              "      <th>Humidity3pm</th>\n",
              "      <th>Pressure9am</th>\n",
              "      <th>Pressure3pm</th>\n",
              "      <th>Cloud9am</th>\n",
              "      <th>Cloud3pm</th>\n",
              "      <th>Temp9am</th>\n",
              "      <th>Temp3pm</th>\n",
              "      <th>RainToday</th>\n",
              "      <th>RainTomorrow</th>\n",
              "    </tr>\n",
              "  </thead>\n",
              "  <tbody>\n",
              "    <tr>\n",
              "      <th>0</th>\n",
              "      <td>2008-12-01</td>\n",
              "      <td>Albury</td>\n",
              "      <td>13.4</td>\n",
              "      <td>22.9</td>\n",
              "      <td>0.6</td>\n",
              "      <td>NaN</td>\n",
              "      <td>NaN</td>\n",
              "      <td>W</td>\n",
              "      <td>44.0</td>\n",
              "      <td>W</td>\n",
              "      <td>...</td>\n",
              "      <td>71.0</td>\n",
              "      <td>22.0</td>\n",
              "      <td>1007.7</td>\n",
              "      <td>1007.1</td>\n",
              "      <td>8.0</td>\n",
              "      <td>NaN</td>\n",
              "      <td>16.9</td>\n",
              "      <td>21.8</td>\n",
              "      <td>No</td>\n",
              "      <td>No</td>\n",
              "    </tr>\n",
              "    <tr>\n",
              "      <th>1</th>\n",
              "      <td>2008-12-02</td>\n",
              "      <td>Albury</td>\n",
              "      <td>7.4</td>\n",
              "      <td>25.1</td>\n",
              "      <td>0.0</td>\n",
              "      <td>NaN</td>\n",
              "      <td>NaN</td>\n",
              "      <td>WNW</td>\n",
              "      <td>44.0</td>\n",
              "      <td>NNW</td>\n",
              "      <td>...</td>\n",
              "      <td>44.0</td>\n",
              "      <td>25.0</td>\n",
              "      <td>1010.6</td>\n",
              "      <td>1007.8</td>\n",
              "      <td>NaN</td>\n",
              "      <td>NaN</td>\n",
              "      <td>17.2</td>\n",
              "      <td>24.3</td>\n",
              "      <td>No</td>\n",
              "      <td>No</td>\n",
              "    </tr>\n",
              "    <tr>\n",
              "      <th>2</th>\n",
              "      <td>2008-12-03</td>\n",
              "      <td>Albury</td>\n",
              "      <td>12.9</td>\n",
              "      <td>25.7</td>\n",
              "      <td>0.0</td>\n",
              "      <td>NaN</td>\n",
              "      <td>NaN</td>\n",
              "      <td>WSW</td>\n",
              "      <td>46.0</td>\n",
              "      <td>W</td>\n",
              "      <td>...</td>\n",
              "      <td>38.0</td>\n",
              "      <td>30.0</td>\n",
              "      <td>1007.6</td>\n",
              "      <td>1008.7</td>\n",
              "      <td>NaN</td>\n",
              "      <td>2.0</td>\n",
              "      <td>21.0</td>\n",
              "      <td>23.2</td>\n",
              "      <td>No</td>\n",
              "      <td>No</td>\n",
              "    </tr>\n",
              "    <tr>\n",
              "      <th>3</th>\n",
              "      <td>2008-12-04</td>\n",
              "      <td>Albury</td>\n",
              "      <td>9.2</td>\n",
              "      <td>28.0</td>\n",
              "      <td>0.0</td>\n",
              "      <td>NaN</td>\n",
              "      <td>NaN</td>\n",
              "      <td>NE</td>\n",
              "      <td>24.0</td>\n",
              "      <td>SE</td>\n",
              "      <td>...</td>\n",
              "      <td>45.0</td>\n",
              "      <td>16.0</td>\n",
              "      <td>1017.6</td>\n",
              "      <td>1012.8</td>\n",
              "      <td>NaN</td>\n",
              "      <td>NaN</td>\n",
              "      <td>18.1</td>\n",
              "      <td>26.5</td>\n",
              "      <td>No</td>\n",
              "      <td>No</td>\n",
              "    </tr>\n",
              "    <tr>\n",
              "      <th>4</th>\n",
              "      <td>2008-12-05</td>\n",
              "      <td>Albury</td>\n",
              "      <td>17.5</td>\n",
              "      <td>32.3</td>\n",
              "      <td>1.0</td>\n",
              "      <td>NaN</td>\n",
              "      <td>NaN</td>\n",
              "      <td>W</td>\n",
              "      <td>41.0</td>\n",
              "      <td>ENE</td>\n",
              "      <td>...</td>\n",
              "      <td>82.0</td>\n",
              "      <td>33.0</td>\n",
              "      <td>1010.8</td>\n",
              "      <td>1006.0</td>\n",
              "      <td>7.0</td>\n",
              "      <td>8.0</td>\n",
              "      <td>17.8</td>\n",
              "      <td>29.7</td>\n",
              "      <td>No</td>\n",
              "      <td>No</td>\n",
              "    </tr>\n",
              "  </tbody>\n",
              "</table>\n",
              "<p>5 rows × 23 columns</p>\n",
              "</div>\n",
              "    <div class=\"colab-df-buttons\">\n",
              "\n",
              "  <div class=\"colab-df-container\">\n",
              "    <button class=\"colab-df-convert\" onclick=\"convertToInteractive('df-94cccbb1-4ff1-41fe-888b-b9515df4abc0')\"\n",
              "            title=\"Convert this dataframe to an interactive table.\"\n",
              "            style=\"display:none;\">\n",
              "\n",
              "  <svg xmlns=\"http://www.w3.org/2000/svg\" height=\"24px\" viewBox=\"0 -960 960 960\">\n",
              "    <path d=\"M120-120v-720h720v720H120Zm60-500h600v-160H180v160Zm220 220h160v-160H400v160Zm0 220h160v-160H400v160ZM180-400h160v-160H180v160Zm440 0h160v-160H620v160ZM180-180h160v-160H180v160Zm440 0h160v-160H620v160Z\"/>\n",
              "  </svg>\n",
              "    </button>\n",
              "\n",
              "  <style>\n",
              "    .colab-df-container {\n",
              "      display:flex;\n",
              "      gap: 12px;\n",
              "    }\n",
              "\n",
              "    .colab-df-convert {\n",
              "      background-color: #E8F0FE;\n",
              "      border: none;\n",
              "      border-radius: 50%;\n",
              "      cursor: pointer;\n",
              "      display: none;\n",
              "      fill: #1967D2;\n",
              "      height: 32px;\n",
              "      padding: 0 0 0 0;\n",
              "      width: 32px;\n",
              "    }\n",
              "\n",
              "    .colab-df-convert:hover {\n",
              "      background-color: #E2EBFA;\n",
              "      box-shadow: 0px 1px 2px rgba(60, 64, 67, 0.3), 0px 1px 3px 1px rgba(60, 64, 67, 0.15);\n",
              "      fill: #174EA6;\n",
              "    }\n",
              "\n",
              "    .colab-df-buttons div {\n",
              "      margin-bottom: 4px;\n",
              "    }\n",
              "\n",
              "    [theme=dark] .colab-df-convert {\n",
              "      background-color: #3B4455;\n",
              "      fill: #D2E3FC;\n",
              "    }\n",
              "\n",
              "    [theme=dark] .colab-df-convert:hover {\n",
              "      background-color: #434B5C;\n",
              "      box-shadow: 0px 1px 3px 1px rgba(0, 0, 0, 0.15);\n",
              "      filter: drop-shadow(0px 1px 2px rgba(0, 0, 0, 0.3));\n",
              "      fill: #FFFFFF;\n",
              "    }\n",
              "  </style>\n",
              "\n",
              "    <script>\n",
              "      const buttonEl =\n",
              "        document.querySelector('#df-94cccbb1-4ff1-41fe-888b-b9515df4abc0 button.colab-df-convert');\n",
              "      buttonEl.style.display =\n",
              "        google.colab.kernel.accessAllowed ? 'block' : 'none';\n",
              "\n",
              "      async function convertToInteractive(key) {\n",
              "        const element = document.querySelector('#df-94cccbb1-4ff1-41fe-888b-b9515df4abc0');\n",
              "        const dataTable =\n",
              "          await google.colab.kernel.invokeFunction('convertToInteractive',\n",
              "                                                    [key], {});\n",
              "        if (!dataTable) return;\n",
              "\n",
              "        const docLinkHtml = 'Like what you see? Visit the ' +\n",
              "          '<a target=\"_blank\" href=https://colab.research.google.com/notebooks/data_table.ipynb>data table notebook</a>'\n",
              "          + ' to learn more about interactive tables.';\n",
              "        element.innerHTML = '';\n",
              "        dataTable['output_type'] = 'display_data';\n",
              "        await google.colab.output.renderOutput(dataTable, element);\n",
              "        const docLink = document.createElement('div');\n",
              "        docLink.innerHTML = docLinkHtml;\n",
              "        element.appendChild(docLink);\n",
              "      }\n",
              "    </script>\n",
              "  </div>\n",
              "\n",
              "\n",
              "<div id=\"df-17472afd-f895-4cfe-88ed-53fa73422c62\">\n",
              "  <button class=\"colab-df-quickchart\" onclick=\"quickchart('df-17472afd-f895-4cfe-88ed-53fa73422c62')\"\n",
              "            title=\"Suggest charts\"\n",
              "            style=\"display:none;\">\n",
              "\n",
              "<svg xmlns=\"http://www.w3.org/2000/svg\" height=\"24px\"viewBox=\"0 0 24 24\"\n",
              "     width=\"24px\">\n",
              "    <g>\n",
              "        <path d=\"M19 3H5c-1.1 0-2 .9-2 2v14c0 1.1.9 2 2 2h14c1.1 0 2-.9 2-2V5c0-1.1-.9-2-2-2zM9 17H7v-7h2v7zm4 0h-2V7h2v10zm4 0h-2v-4h2v4z\"/>\n",
              "    </g>\n",
              "</svg>\n",
              "  </button>\n",
              "\n",
              "<style>\n",
              "  .colab-df-quickchart {\n",
              "      --bg-color: #E8F0FE;\n",
              "      --fill-color: #1967D2;\n",
              "      --hover-bg-color: #E2EBFA;\n",
              "      --hover-fill-color: #174EA6;\n",
              "      --disabled-fill-color: #AAA;\n",
              "      --disabled-bg-color: #DDD;\n",
              "  }\n",
              "\n",
              "  [theme=dark] .colab-df-quickchart {\n",
              "      --bg-color: #3B4455;\n",
              "      --fill-color: #D2E3FC;\n",
              "      --hover-bg-color: #434B5C;\n",
              "      --hover-fill-color: #FFFFFF;\n",
              "      --disabled-bg-color: #3B4455;\n",
              "      --disabled-fill-color: #666;\n",
              "  }\n",
              "\n",
              "  .colab-df-quickchart {\n",
              "    background-color: var(--bg-color);\n",
              "    border: none;\n",
              "    border-radius: 50%;\n",
              "    cursor: pointer;\n",
              "    display: none;\n",
              "    fill: var(--fill-color);\n",
              "    height: 32px;\n",
              "    padding: 0;\n",
              "    width: 32px;\n",
              "  }\n",
              "\n",
              "  .colab-df-quickchart:hover {\n",
              "    background-color: var(--hover-bg-color);\n",
              "    box-shadow: 0 1px 2px rgba(60, 64, 67, 0.3), 0 1px 3px 1px rgba(60, 64, 67, 0.15);\n",
              "    fill: var(--button-hover-fill-color);\n",
              "  }\n",
              "\n",
              "  .colab-df-quickchart-complete:disabled,\n",
              "  .colab-df-quickchart-complete:disabled:hover {\n",
              "    background-color: var(--disabled-bg-color);\n",
              "    fill: var(--disabled-fill-color);\n",
              "    box-shadow: none;\n",
              "  }\n",
              "\n",
              "  .colab-df-spinner {\n",
              "    border: 2px solid var(--fill-color);\n",
              "    border-color: transparent;\n",
              "    border-bottom-color: var(--fill-color);\n",
              "    animation:\n",
              "      spin 1s steps(1) infinite;\n",
              "  }\n",
              "\n",
              "  @keyframes spin {\n",
              "    0% {\n",
              "      border-color: transparent;\n",
              "      border-bottom-color: var(--fill-color);\n",
              "      border-left-color: var(--fill-color);\n",
              "    }\n",
              "    20% {\n",
              "      border-color: transparent;\n",
              "      border-left-color: var(--fill-color);\n",
              "      border-top-color: var(--fill-color);\n",
              "    }\n",
              "    30% {\n",
              "      border-color: transparent;\n",
              "      border-left-color: var(--fill-color);\n",
              "      border-top-color: var(--fill-color);\n",
              "      border-right-color: var(--fill-color);\n",
              "    }\n",
              "    40% {\n",
              "      border-color: transparent;\n",
              "      border-right-color: var(--fill-color);\n",
              "      border-top-color: var(--fill-color);\n",
              "    }\n",
              "    60% {\n",
              "      border-color: transparent;\n",
              "      border-right-color: var(--fill-color);\n",
              "    }\n",
              "    80% {\n",
              "      border-color: transparent;\n",
              "      border-right-color: var(--fill-color);\n",
              "      border-bottom-color: var(--fill-color);\n",
              "    }\n",
              "    90% {\n",
              "      border-color: transparent;\n",
              "      border-bottom-color: var(--fill-color);\n",
              "    }\n",
              "  }\n",
              "</style>\n",
              "\n",
              "  <script>\n",
              "    async function quickchart(key) {\n",
              "      const quickchartButtonEl =\n",
              "        document.querySelector('#' + key + ' button');\n",
              "      quickchartButtonEl.disabled = true;  // To prevent multiple clicks.\n",
              "      quickchartButtonEl.classList.add('colab-df-spinner');\n",
              "      try {\n",
              "        const charts = await google.colab.kernel.invokeFunction(\n",
              "            'suggestCharts', [key], {});\n",
              "      } catch (error) {\n",
              "        console.error('Error during call to suggestCharts:', error);\n",
              "      }\n",
              "      quickchartButtonEl.classList.remove('colab-df-spinner');\n",
              "      quickchartButtonEl.classList.add('colab-df-quickchart-complete');\n",
              "    }\n",
              "    (() => {\n",
              "      let quickchartButtonEl =\n",
              "        document.querySelector('#df-17472afd-f895-4cfe-88ed-53fa73422c62 button');\n",
              "      quickchartButtonEl.style.display =\n",
              "        google.colab.kernel.accessAllowed ? 'block' : 'none';\n",
              "    })();\n",
              "  </script>\n",
              "</div>\n",
              "    </div>\n",
              "  </div>\n"
            ],
            "text/plain": [
              "         Date Location  MinTemp  MaxTemp  Rainfall  Evaporation  Sunshine  \\\n",
              "0  2008-12-01   Albury     13.4     22.9       0.6          NaN       NaN   \n",
              "1  2008-12-02   Albury      7.4     25.1       0.0          NaN       NaN   \n",
              "2  2008-12-03   Albury     12.9     25.7       0.0          NaN       NaN   \n",
              "3  2008-12-04   Albury      9.2     28.0       0.0          NaN       NaN   \n",
              "4  2008-12-05   Albury     17.5     32.3       1.0          NaN       NaN   \n",
              "\n",
              "  WindGustDir  WindGustSpeed WindDir9am  ... Humidity9am  Humidity3pm  \\\n",
              "0           W           44.0          W  ...        71.0         22.0   \n",
              "1         WNW           44.0        NNW  ...        44.0         25.0   \n",
              "2         WSW           46.0          W  ...        38.0         30.0   \n",
              "3          NE           24.0         SE  ...        45.0         16.0   \n",
              "4           W           41.0        ENE  ...        82.0         33.0   \n",
              "\n",
              "   Pressure9am  Pressure3pm  Cloud9am  Cloud3pm  Temp9am  Temp3pm  RainToday  \\\n",
              "0       1007.7       1007.1       8.0       NaN     16.9     21.8         No   \n",
              "1       1010.6       1007.8       NaN       NaN     17.2     24.3         No   \n",
              "2       1007.6       1008.7       NaN       2.0     21.0     23.2         No   \n",
              "3       1017.6       1012.8       NaN       NaN     18.1     26.5         No   \n",
              "4       1010.8       1006.0       7.0       8.0     17.8     29.7         No   \n",
              "\n",
              "   RainTomorrow  \n",
              "0            No  \n",
              "1            No  \n",
              "2            No  \n",
              "3            No  \n",
              "4            No  \n",
              "\n",
              "[5 rows x 23 columns]"
            ]
          },
          "execution_count": 14,
          "metadata": {},
          "output_type": "execute_result"
        }
      ],
      "source": [
        "df = pd.read_csv('weatherAUS.csv')\n",
        "df.head()"
      ]
    },
    {
      "cell_type": "code",
      "execution_count": 15,
      "metadata": {
        "colab": {
          "base_uri": "https://localhost:8080/"
        },
        "id": "ZoCUph1Fsvh5",
        "outputId": "52926416-963c-4dff-af1a-7a695c57cf05"
      },
      "outputs": [
        {
          "data": {
            "text/plain": [
              "Date              object\n",
              "Location          object\n",
              "MinTemp          float64\n",
              "MaxTemp          float64\n",
              "Rainfall         float64\n",
              "Evaporation      float64\n",
              "Sunshine         float64\n",
              "WindGustDir       object\n",
              "WindGustSpeed    float64\n",
              "WindDir9am        object\n",
              "WindDir3pm        object\n",
              "WindSpeed9am     float64\n",
              "WindSpeed3pm     float64\n",
              "Humidity9am      float64\n",
              "Humidity3pm      float64\n",
              "Pressure9am      float64\n",
              "Pressure3pm      float64\n",
              "Cloud9am         float64\n",
              "Cloud3pm         float64\n",
              "Temp9am          float64\n",
              "Temp3pm          float64\n",
              "RainToday         object\n",
              "RainTomorrow      object\n",
              "dtype: object"
            ]
          },
          "execution_count": 15,
          "metadata": {},
          "output_type": "execute_result"
        }
      ],
      "source": [
        "df.dtypes"
      ]
    },
    {
      "cell_type": "markdown",
      "metadata": {
        "id": "6x47IY2PCHSw"
      },
      "source": [
        "**Printing Missing Values**"
      ]
    },
    {
      "cell_type": "code",
      "execution_count": 16,
      "metadata": {
        "colab": {
          "base_uri": "https://localhost:8080/"
        },
        "id": "4QDfKEZ6tHL5",
        "outputId": "51014bfb-e8e3-443b-bb4c-9e84d174be5b"
      },
      "outputs": [
        {
          "name": "stdout",
          "output_type": "stream",
          "text": [
            "Date                 0\n",
            "Location             0\n",
            "MinTemp           1317\n",
            "MaxTemp           1124\n",
            "Rainfall          2929\n",
            "Evaporation      51935\n",
            "Sunshine         57088\n",
            "WindGustDir       9862\n",
            "WindGustSpeed     9836\n",
            "WindDir9am        9155\n",
            "WindDir3pm        3927\n",
            "WindSpeed9am      1618\n",
            "WindSpeed3pm      2909\n",
            "Humidity9am       2430\n",
            "Humidity3pm       3533\n",
            "Pressure9am      10867\n",
            "Pressure3pm      10832\n",
            "Cloud9am         44795\n",
            "Cloud3pm         47632\n",
            "Temp9am           1640\n",
            "Temp3pm           2803\n",
            "RainToday         2930\n",
            "RainTomorrow      2932\n",
            "dtype: int64\n"
          ]
        }
      ],
      "source": [
        "missing=df.isna().sum()\n",
        "print(missing)"
      ]
    },
    {
      "cell_type": "markdown",
      "metadata": {
        "id": "Ac5yabSvEWHz"
      },
      "source": [
        "Dropping 'Date' as it does not contribute much for classification"
      ]
    },
    {
      "cell_type": "code",
      "execution_count": 17,
      "metadata": {
        "id": "yDxZTznw55ge"
      },
      "outputs": [],
      "source": [
        "df=df.drop(columns='Date',axis=1)"
      ]
    },
    {
      "cell_type": "markdown",
      "metadata": {
        "id": "FKbeW3V_CrTj"
      },
      "source": [
        "**Splitting into Numerical and Categorical Features**"
      ]
    },
    {
      "cell_type": "code",
      "execution_count": 18,
      "metadata": {
        "colab": {
          "base_uri": "https://localhost:8080/"
        },
        "id": "vybEVjz6vdXb",
        "outputId": "0d056f0d-d576-43e1-a09b-bccaa542a98d"
      },
      "outputs": [
        {
          "name": "stdout",
          "output_type": "stream",
          "text": [
            "Numerical:  ['MinTemp', 'MaxTemp', 'Rainfall', 'Evaporation', 'Sunshine', 'WindGustSpeed', 'WindSpeed9am', 'WindSpeed3pm', 'Humidity9am', 'Humidity3pm', 'Pressure9am', 'Pressure3pm', 'Cloud9am', 'Cloud3pm', 'Temp9am', 'Temp3pm']\n",
            "Catgorical:  ['Location', 'WindGustDir', 'WindDir9am', 'WindDir3pm', 'RainToday', 'RainTomorrow']\n"
          ]
        }
      ],
      "source": [
        "categorical_features = df.select_dtypes(include=['object']).columns.tolist()\n",
        "numerical_features = df.select_dtypes(exclude=['object']).columns.tolist()\n",
        "print(\"Numerical: \",numerical_features)\n",
        "print(\"Catgorical: \",categorical_features)"
      ]
    },
    {
      "cell_type": "markdown",
      "metadata": {
        "id": "RkWGizZgCz9g"
      },
      "source": [
        "Dropping the rows having null values in RainTomorrow column since we can't fill the null values for a column which we are going to predict\n"
      ]
    },
    {
      "cell_type": "code",
      "execution_count": 19,
      "metadata": {
        "id": "cvBg-FpHCgDB"
      },
      "outputs": [],
      "source": [
        "df.dropna(subset=['RainTomorrow'], inplace=True)"
      ]
    },
    {
      "cell_type": "markdown",
      "metadata": {
        "id": "nh2LS3wXDDWX"
      },
      "source": [
        "**Filling the null values of Numercal Columns with median**"
      ]
    },
    {
      "cell_type": "code",
      "execution_count": 20,
      "metadata": {
        "id": "3SCnsfOmwhQD"
      },
      "outputs": [],
      "source": [
        "for column in numerical_features:\n",
        "  df[column].fillna(df[column].median(), inplace=True)"
      ]
    },
    {
      "cell_type": "markdown",
      "metadata": {
        "id": "Zj7MZGsuDMN2"
      },
      "source": [
        "**Filling the null values of Categorical Columns with most frequent value**"
      ]
    },
    {
      "cell_type": "code",
      "execution_count": 21,
      "metadata": {
        "id": "q-22nA_ew2m2"
      },
      "outputs": [],
      "source": [
        "for column in categorical_features:\n",
        "  df[column].fillna(df[column].mode()[0],inplace=True)"
      ]
    },
    {
      "cell_type": "code",
      "execution_count": 22,
      "metadata": {
        "colab": {
          "base_uri": "https://localhost:8080/"
        },
        "id": "jn7hsOuVxFhh",
        "outputId": "3ebde5c6-9f54-46d9-a88d-38406da1c195"
      },
      "outputs": [
        {
          "data": {
            "text/plain": [
              "Location         0\n",
              "MinTemp          0\n",
              "MaxTemp          0\n",
              "Rainfall         0\n",
              "Evaporation      0\n",
              "Sunshine         0\n",
              "WindGustDir      0\n",
              "WindGustSpeed    0\n",
              "WindDir9am       0\n",
              "WindDir3pm       0\n",
              "WindSpeed9am     0\n",
              "WindSpeed3pm     0\n",
              "Humidity9am      0\n",
              "Humidity3pm      0\n",
              "Pressure9am      0\n",
              "Pressure3pm      0\n",
              "Cloud9am         0\n",
              "Cloud3pm         0\n",
              "Temp9am          0\n",
              "Temp3pm          0\n",
              "RainToday        0\n",
              "RainTomorrow     0\n",
              "dtype: int64"
            ]
          },
          "execution_count": 22,
          "metadata": {},
          "output_type": "execute_result"
        }
      ],
      "source": [
        "df.isna().sum()"
      ]
    },
    {
      "cell_type": "markdown",
      "metadata": {
        "id": "rjiMOxhnDar2"
      },
      "source": [
        "**Encoding Categorical Columns**"
      ]
    },
    {
      "cell_type": "markdown",
      "metadata": {
        "id": "39JCP6q_D-Ds"
      },
      "source": [
        "Using label encoder for RainToday and RainTomorrow, and using one hot encoding for other categorical columns"
      ]
    },
    {
      "cell_type": "code",
      "execution_count": 23,
      "metadata": {
        "colab": {
          "base_uri": "https://localhost:8080/",
          "height": 255
        },
        "id": "63udDjkz3iV9",
        "outputId": "0229b7e2-767e-444c-e9f3-5aa6366a84a2"
      },
      "outputs": [
        {
          "data": {
            "application/vnd.google.colaboratory.intrinsic+json": {
              "type": "dataframe",
              "variable_name": "df"
            },
            "text/html": [
              "\n",
              "  <div id=\"df-a6cc9181-c9f1-4d88-9c9d-a95287543c5c\" class=\"colab-df-container\">\n",
              "    <div>\n",
              "<style scoped>\n",
              "    .dataframe tbody tr th:only-of-type {\n",
              "        vertical-align: middle;\n",
              "    }\n",
              "\n",
              "    .dataframe tbody tr th {\n",
              "        vertical-align: top;\n",
              "    }\n",
              "\n",
              "    .dataframe thead th {\n",
              "        text-align: right;\n",
              "    }\n",
              "</style>\n",
              "<table border=\"1\" class=\"dataframe\">\n",
              "  <thead>\n",
              "    <tr style=\"text-align: right;\">\n",
              "      <th></th>\n",
              "      <th>Location</th>\n",
              "      <th>MinTemp</th>\n",
              "      <th>MaxTemp</th>\n",
              "      <th>Rainfall</th>\n",
              "      <th>Evaporation</th>\n",
              "      <th>Sunshine</th>\n",
              "      <th>WindGustDir</th>\n",
              "      <th>WindGustSpeed</th>\n",
              "      <th>WindDir9am</th>\n",
              "      <th>WindDir3pm</th>\n",
              "      <th>...</th>\n",
              "      <th>Humidity9am</th>\n",
              "      <th>Humidity3pm</th>\n",
              "      <th>Pressure9am</th>\n",
              "      <th>Pressure3pm</th>\n",
              "      <th>Cloud9am</th>\n",
              "      <th>Cloud3pm</th>\n",
              "      <th>Temp9am</th>\n",
              "      <th>Temp3pm</th>\n",
              "      <th>RainToday</th>\n",
              "      <th>RainTomorrow</th>\n",
              "    </tr>\n",
              "  </thead>\n",
              "  <tbody>\n",
              "    <tr>\n",
              "      <th>0</th>\n",
              "      <td>2</td>\n",
              "      <td>13.4</td>\n",
              "      <td>22.9</td>\n",
              "      <td>0.6</td>\n",
              "      <td>4.4</td>\n",
              "      <td>8.2</td>\n",
              "      <td>13</td>\n",
              "      <td>44.0</td>\n",
              "      <td>13</td>\n",
              "      <td>14</td>\n",
              "      <td>...</td>\n",
              "      <td>71.0</td>\n",
              "      <td>22.0</td>\n",
              "      <td>1007.7</td>\n",
              "      <td>1007.1</td>\n",
              "      <td>8.0</td>\n",
              "      <td>5.0</td>\n",
              "      <td>16.9</td>\n",
              "      <td>21.8</td>\n",
              "      <td>0</td>\n",
              "      <td>0</td>\n",
              "    </tr>\n",
              "    <tr>\n",
              "      <th>1</th>\n",
              "      <td>2</td>\n",
              "      <td>7.4</td>\n",
              "      <td>25.1</td>\n",
              "      <td>0.0</td>\n",
              "      <td>4.4</td>\n",
              "      <td>8.2</td>\n",
              "      <td>14</td>\n",
              "      <td>44.0</td>\n",
              "      <td>6</td>\n",
              "      <td>15</td>\n",
              "      <td>...</td>\n",
              "      <td>44.0</td>\n",
              "      <td>25.0</td>\n",
              "      <td>1010.6</td>\n",
              "      <td>1007.8</td>\n",
              "      <td>5.0</td>\n",
              "      <td>5.0</td>\n",
              "      <td>17.2</td>\n",
              "      <td>24.3</td>\n",
              "      <td>0</td>\n",
              "      <td>0</td>\n",
              "    </tr>\n",
              "    <tr>\n",
              "      <th>2</th>\n",
              "      <td>2</td>\n",
              "      <td>12.9</td>\n",
              "      <td>25.7</td>\n",
              "      <td>0.0</td>\n",
              "      <td>4.4</td>\n",
              "      <td>8.2</td>\n",
              "      <td>15</td>\n",
              "      <td>46.0</td>\n",
              "      <td>13</td>\n",
              "      <td>15</td>\n",
              "      <td>...</td>\n",
              "      <td>38.0</td>\n",
              "      <td>30.0</td>\n",
              "      <td>1007.6</td>\n",
              "      <td>1008.7</td>\n",
              "      <td>5.0</td>\n",
              "      <td>2.0</td>\n",
              "      <td>21.0</td>\n",
              "      <td>23.2</td>\n",
              "      <td>0</td>\n",
              "      <td>0</td>\n",
              "    </tr>\n",
              "    <tr>\n",
              "      <th>3</th>\n",
              "      <td>2</td>\n",
              "      <td>9.2</td>\n",
              "      <td>28.0</td>\n",
              "      <td>0.0</td>\n",
              "      <td>4.4</td>\n",
              "      <td>8.2</td>\n",
              "      <td>4</td>\n",
              "      <td>24.0</td>\n",
              "      <td>9</td>\n",
              "      <td>0</td>\n",
              "      <td>...</td>\n",
              "      <td>45.0</td>\n",
              "      <td>16.0</td>\n",
              "      <td>1017.6</td>\n",
              "      <td>1012.8</td>\n",
              "      <td>5.0</td>\n",
              "      <td>5.0</td>\n",
              "      <td>18.1</td>\n",
              "      <td>26.5</td>\n",
              "      <td>0</td>\n",
              "      <td>0</td>\n",
              "    </tr>\n",
              "    <tr>\n",
              "      <th>4</th>\n",
              "      <td>2</td>\n",
              "      <td>17.5</td>\n",
              "      <td>32.3</td>\n",
              "      <td>1.0</td>\n",
              "      <td>4.4</td>\n",
              "      <td>8.2</td>\n",
              "      <td>13</td>\n",
              "      <td>41.0</td>\n",
              "      <td>1</td>\n",
              "      <td>7</td>\n",
              "      <td>...</td>\n",
              "      <td>82.0</td>\n",
              "      <td>33.0</td>\n",
              "      <td>1010.8</td>\n",
              "      <td>1006.0</td>\n",
              "      <td>7.0</td>\n",
              "      <td>8.0</td>\n",
              "      <td>17.8</td>\n",
              "      <td>29.7</td>\n",
              "      <td>0</td>\n",
              "      <td>0</td>\n",
              "    </tr>\n",
              "  </tbody>\n",
              "</table>\n",
              "<p>5 rows × 22 columns</p>\n",
              "</div>\n",
              "    <div class=\"colab-df-buttons\">\n",
              "\n",
              "  <div class=\"colab-df-container\">\n",
              "    <button class=\"colab-df-convert\" onclick=\"convertToInteractive('df-a6cc9181-c9f1-4d88-9c9d-a95287543c5c')\"\n",
              "            title=\"Convert this dataframe to an interactive table.\"\n",
              "            style=\"display:none;\">\n",
              "\n",
              "  <svg xmlns=\"http://www.w3.org/2000/svg\" height=\"24px\" viewBox=\"0 -960 960 960\">\n",
              "    <path d=\"M120-120v-720h720v720H120Zm60-500h600v-160H180v160Zm220 220h160v-160H400v160Zm0 220h160v-160H400v160ZM180-400h160v-160H180v160Zm440 0h160v-160H620v160ZM180-180h160v-160H180v160Zm440 0h160v-160H620v160Z\"/>\n",
              "  </svg>\n",
              "    </button>\n",
              "\n",
              "  <style>\n",
              "    .colab-df-container {\n",
              "      display:flex;\n",
              "      gap: 12px;\n",
              "    }\n",
              "\n",
              "    .colab-df-convert {\n",
              "      background-color: #E8F0FE;\n",
              "      border: none;\n",
              "      border-radius: 50%;\n",
              "      cursor: pointer;\n",
              "      display: none;\n",
              "      fill: #1967D2;\n",
              "      height: 32px;\n",
              "      padding: 0 0 0 0;\n",
              "      width: 32px;\n",
              "    }\n",
              "\n",
              "    .colab-df-convert:hover {\n",
              "      background-color: #E2EBFA;\n",
              "      box-shadow: 0px 1px 2px rgba(60, 64, 67, 0.3), 0px 1px 3px 1px rgba(60, 64, 67, 0.15);\n",
              "      fill: #174EA6;\n",
              "    }\n",
              "\n",
              "    .colab-df-buttons div {\n",
              "      margin-bottom: 4px;\n",
              "    }\n",
              "\n",
              "    [theme=dark] .colab-df-convert {\n",
              "      background-color: #3B4455;\n",
              "      fill: #D2E3FC;\n",
              "    }\n",
              "\n",
              "    [theme=dark] .colab-df-convert:hover {\n",
              "      background-color: #434B5C;\n",
              "      box-shadow: 0px 1px 3px 1px rgba(0, 0, 0, 0.15);\n",
              "      filter: drop-shadow(0px 1px 2px rgba(0, 0, 0, 0.3));\n",
              "      fill: #FFFFFF;\n",
              "    }\n",
              "  </style>\n",
              "\n",
              "    <script>\n",
              "      const buttonEl =\n",
              "        document.querySelector('#df-a6cc9181-c9f1-4d88-9c9d-a95287543c5c button.colab-df-convert');\n",
              "      buttonEl.style.display =\n",
              "        google.colab.kernel.accessAllowed ? 'block' : 'none';\n",
              "\n",
              "      async function convertToInteractive(key) {\n",
              "        const element = document.querySelector('#df-a6cc9181-c9f1-4d88-9c9d-a95287543c5c');\n",
              "        const dataTable =\n",
              "          await google.colab.kernel.invokeFunction('convertToInteractive',\n",
              "                                                    [key], {});\n",
              "        if (!dataTable) return;\n",
              "\n",
              "        const docLinkHtml = 'Like what you see? Visit the ' +\n",
              "          '<a target=\"_blank\" href=https://colab.research.google.com/notebooks/data_table.ipynb>data table notebook</a>'\n",
              "          + ' to learn more about interactive tables.';\n",
              "        element.innerHTML = '';\n",
              "        dataTable['output_type'] = 'display_data';\n",
              "        await google.colab.output.renderOutput(dataTable, element);\n",
              "        const docLink = document.createElement('div');\n",
              "        docLink.innerHTML = docLinkHtml;\n",
              "        element.appendChild(docLink);\n",
              "      }\n",
              "    </script>\n",
              "  </div>\n",
              "\n",
              "\n",
              "<div id=\"df-582b864f-1585-4e16-b20a-d8446f7ce591\">\n",
              "  <button class=\"colab-df-quickchart\" onclick=\"quickchart('df-582b864f-1585-4e16-b20a-d8446f7ce591')\"\n",
              "            title=\"Suggest charts\"\n",
              "            style=\"display:none;\">\n",
              "\n",
              "<svg xmlns=\"http://www.w3.org/2000/svg\" height=\"24px\"viewBox=\"0 0 24 24\"\n",
              "     width=\"24px\">\n",
              "    <g>\n",
              "        <path d=\"M19 3H5c-1.1 0-2 .9-2 2v14c0 1.1.9 2 2 2h14c1.1 0 2-.9 2-2V5c0-1.1-.9-2-2-2zM9 17H7v-7h2v7zm4 0h-2V7h2v10zm4 0h-2v-4h2v4z\"/>\n",
              "    </g>\n",
              "</svg>\n",
              "  </button>\n",
              "\n",
              "<style>\n",
              "  .colab-df-quickchart {\n",
              "      --bg-color: #E8F0FE;\n",
              "      --fill-color: #1967D2;\n",
              "      --hover-bg-color: #E2EBFA;\n",
              "      --hover-fill-color: #174EA6;\n",
              "      --disabled-fill-color: #AAA;\n",
              "      --disabled-bg-color: #DDD;\n",
              "  }\n",
              "\n",
              "  [theme=dark] .colab-df-quickchart {\n",
              "      --bg-color: #3B4455;\n",
              "      --fill-color: #D2E3FC;\n",
              "      --hover-bg-color: #434B5C;\n",
              "      --hover-fill-color: #FFFFFF;\n",
              "      --disabled-bg-color: #3B4455;\n",
              "      --disabled-fill-color: #666;\n",
              "  }\n",
              "\n",
              "  .colab-df-quickchart {\n",
              "    background-color: var(--bg-color);\n",
              "    border: none;\n",
              "    border-radius: 50%;\n",
              "    cursor: pointer;\n",
              "    display: none;\n",
              "    fill: var(--fill-color);\n",
              "    height: 32px;\n",
              "    padding: 0;\n",
              "    width: 32px;\n",
              "  }\n",
              "\n",
              "  .colab-df-quickchart:hover {\n",
              "    background-color: var(--hover-bg-color);\n",
              "    box-shadow: 0 1px 2px rgba(60, 64, 67, 0.3), 0 1px 3px 1px rgba(60, 64, 67, 0.15);\n",
              "    fill: var(--button-hover-fill-color);\n",
              "  }\n",
              "\n",
              "  .colab-df-quickchart-complete:disabled,\n",
              "  .colab-df-quickchart-complete:disabled:hover {\n",
              "    background-color: var(--disabled-bg-color);\n",
              "    fill: var(--disabled-fill-color);\n",
              "    box-shadow: none;\n",
              "  }\n",
              "\n",
              "  .colab-df-spinner {\n",
              "    border: 2px solid var(--fill-color);\n",
              "    border-color: transparent;\n",
              "    border-bottom-color: var(--fill-color);\n",
              "    animation:\n",
              "      spin 1s steps(1) infinite;\n",
              "  }\n",
              "\n",
              "  @keyframes spin {\n",
              "    0% {\n",
              "      border-color: transparent;\n",
              "      border-bottom-color: var(--fill-color);\n",
              "      border-left-color: var(--fill-color);\n",
              "    }\n",
              "    20% {\n",
              "      border-color: transparent;\n",
              "      border-left-color: var(--fill-color);\n",
              "      border-top-color: var(--fill-color);\n",
              "    }\n",
              "    30% {\n",
              "      border-color: transparent;\n",
              "      border-left-color: var(--fill-color);\n",
              "      border-top-color: var(--fill-color);\n",
              "      border-right-color: var(--fill-color);\n",
              "    }\n",
              "    40% {\n",
              "      border-color: transparent;\n",
              "      border-right-color: var(--fill-color);\n",
              "      border-top-color: var(--fill-color);\n",
              "    }\n",
              "    60% {\n",
              "      border-color: transparent;\n",
              "      border-right-color: var(--fill-color);\n",
              "    }\n",
              "    80% {\n",
              "      border-color: transparent;\n",
              "      border-right-color: var(--fill-color);\n",
              "      border-bottom-color: var(--fill-color);\n",
              "    }\n",
              "    90% {\n",
              "      border-color: transparent;\n",
              "      border-bottom-color: var(--fill-color);\n",
              "    }\n",
              "  }\n",
              "</style>\n",
              "\n",
              "  <script>\n",
              "    async function quickchart(key) {\n",
              "      const quickchartButtonEl =\n",
              "        document.querySelector('#' + key + ' button');\n",
              "      quickchartButtonEl.disabled = true;  // To prevent multiple clicks.\n",
              "      quickchartButtonEl.classList.add('colab-df-spinner');\n",
              "      try {\n",
              "        const charts = await google.colab.kernel.invokeFunction(\n",
              "            'suggestCharts', [key], {});\n",
              "      } catch (error) {\n",
              "        console.error('Error during call to suggestCharts:', error);\n",
              "      }\n",
              "      quickchartButtonEl.classList.remove('colab-df-spinner');\n",
              "      quickchartButtonEl.classList.add('colab-df-quickchart-complete');\n",
              "    }\n",
              "    (() => {\n",
              "      let quickchartButtonEl =\n",
              "        document.querySelector('#df-582b864f-1585-4e16-b20a-d8446f7ce591 button');\n",
              "      quickchartButtonEl.style.display =\n",
              "        google.colab.kernel.accessAllowed ? 'block' : 'none';\n",
              "    })();\n",
              "  </script>\n",
              "</div>\n",
              "    </div>\n",
              "  </div>\n"
            ],
            "text/plain": [
              "   Location  MinTemp  MaxTemp  Rainfall  Evaporation  Sunshine  WindGustDir  \\\n",
              "0         2     13.4     22.9       0.6          4.4       8.2           13   \n",
              "1         2      7.4     25.1       0.0          4.4       8.2           14   \n",
              "2         2     12.9     25.7       0.0          4.4       8.2           15   \n",
              "3         2      9.2     28.0       0.0          4.4       8.2            4   \n",
              "4         2     17.5     32.3       1.0          4.4       8.2           13   \n",
              "\n",
              "   WindGustSpeed  WindDir9am  WindDir3pm  ...  Humidity9am  Humidity3pm  \\\n",
              "0           44.0          13          14  ...         71.0         22.0   \n",
              "1           44.0           6          15  ...         44.0         25.0   \n",
              "2           46.0          13          15  ...         38.0         30.0   \n",
              "3           24.0           9           0  ...         45.0         16.0   \n",
              "4           41.0           1           7  ...         82.0         33.0   \n",
              "\n",
              "   Pressure9am  Pressure3pm  Cloud9am  Cloud3pm  Temp9am  Temp3pm  RainToday  \\\n",
              "0       1007.7       1007.1       8.0       5.0     16.9     21.8          0   \n",
              "1       1010.6       1007.8       5.0       5.0     17.2     24.3          0   \n",
              "2       1007.6       1008.7       5.0       2.0     21.0     23.2          0   \n",
              "3       1017.6       1012.8       5.0       5.0     18.1     26.5          0   \n",
              "4       1010.8       1006.0       7.0       8.0     17.8     29.7          0   \n",
              "\n",
              "   RainTomorrow  \n",
              "0             0  \n",
              "1             0  \n",
              "2             0  \n",
              "3             0  \n",
              "4             0  \n",
              "\n",
              "[5 rows x 22 columns]"
            ]
          },
          "execution_count": 23,
          "metadata": {},
          "output_type": "execute_result"
        }
      ],
      "source": [
        "label_encoder = LabelEncoder()\n",
        "for i in categorical_features:\n",
        "  df[i] = label_encoder.fit_transform(df[i])\n",
        "df.head()"
      ]
    },
    {
      "cell_type": "markdown",
      "metadata": {
        "id": "pfhUXMyQEuWo"
      },
      "source": [
        "# Splitting into Train and Test"
      ]
    },
    {
      "cell_type": "code",
      "execution_count": 24,
      "metadata": {
        "id": "D9bMExXW6uJ2"
      },
      "outputs": [],
      "source": [
        "X = df.drop(columns = ['RainTomorrow','Location'])\n",
        "y = df['RainTomorrow']\n",
        "\n",
        "X_train, X_test, y_train, y_test = train_test_split(X, y, test_size = 0.25, random_state = 8)\n",
        "\n",
        "# Initialize the StandardScaler\n",
        "scaler = StandardScaler()\n",
        "\n",
        "# Fit and transform the training set, transform the testing set\n",
        "X_train_scaled = scaler.fit_transform(X_train)\n",
        "X_test_scaled = scaler.transform(X_test)"
      ]
    },
    {
      "cell_type": "markdown",
      "metadata": {
        "id": "XYjcsQkolu5U"
      },
      "source": [
        "Using standard scaled data for some of the models"
      ]
    },
    {
      "cell_type": "markdown",
      "metadata": {
        "id": "sstF43tkq7_z"
      },
      "source": [
        "# Linear Models"
      ]
    },
    {
      "cell_type": "markdown",
      "metadata": {
        "id": "AdSEPzJIlIbm"
      },
      "source": [
        "**Linear Models**\n",
        "\n",
        "Linear models assume a linear relationship between input features and the target variable. Examples include Linear Regression and Logistic Regression. They are interpretable, computationally efficient, and work well when relationships are approximately linear."
      ]
    },
    {
      "cell_type": "markdown",
      "metadata": {
        "id": "T8nR5ywemKpo"
      },
      "source": [
        "**Logistic Regression vs Naive Bayes**\n",
        "\n",
        "Logistic Regression is a linear model that predicts probabilities based on input features, suitable for linear relationships. Naive Bayes is a probabilistic model assuming feature independence, often used for text classification. Logistic Regression offers interpretability, while Naive Bayes provides computational efficiency, particularly for high-dimensional data like text."
      ]
    },
    {
      "cell_type": "markdown",
      "metadata": {
        "id": "ugcCA5hKrDMX"
      },
      "source": [
        "## Logistic Regression"
      ]
    },
    {
      "cell_type": "markdown",
      "metadata": {
        "id": "P5VPHzZ8oE1h"
      },
      "source": [
        "**Logistic Regression before and after tuning hyperparameters**"
      ]
    },
    {
      "cell_type": "code",
      "execution_count": 25,
      "metadata": {
        "colab": {
          "base_uri": "https://localhost:8080/"
        },
        "id": "7XQ8d2FVrKRR",
        "outputId": "e8382669-72d3-430e-edd4-64457f812dd0"
      },
      "outputs": [
        {
          "name": "stdout",
          "output_type": "stream",
          "text": [
            "Accuracy before hyperparameter tuning: 0.8364508558807289\n",
            "Accuracy after hyperparameter tuning: 0.8370375483158476\n",
            "Best hyperparameters: {'C': 0.1}\n"
          ]
        }
      ],
      "source": [
        "# Logistic Regression before tuning hyperparameters\n",
        "lr_before = LogisticRegression(max_iter = 1500, solver = 'liblinear')\n",
        "lr_before.fit(X_train, y_train)\n",
        "y_pred_before = lr_before.predict(X_test)\n",
        "accuracy_before = accuracy_score(y_test, y_pred_before)\n",
        "print(\"Accuracy before hyperparameter tuning:\", accuracy_before)\n",
        "\n",
        "param_grid = {'C': [0.001, 0.01, 0.1, 1, 10, 100]}\n",
        "\n",
        "# Logistic Regression after tuning hyperparameters\n",
        "lr_after = GridSearchCV(LogisticRegression(max_iter = 2000, solver = 'liblinear'), param_grid, cv=5)\n",
        "lr_after.fit(X_train, y_train)\n",
        "y_pred_after = lr_after.predict(X_test)\n",
        "accuracy_after = accuracy_score(y_test, y_pred_after)\n",
        "print(\"Accuracy after hyperparameter tuning:\", accuracy_after)\n",
        "print(\"Best hyperparameters:\", lr_after.best_params_)"
      ]
    },
    {
      "cell_type": "markdown",
      "metadata": {
        "id": "ZrlpyvItuDp7"
      },
      "source": [
        "## Naive Bayes"
      ]
    },
    {
      "cell_type": "markdown",
      "metadata": {
        "id": "oiZgTNRDuy7i"
      },
      "source": [
        "**Naive Bayes before and after tuning hyperparameters**"
      ]
    },
    {
      "cell_type": "code",
      "execution_count": 26,
      "metadata": {
        "colab": {
          "base_uri": "https://localhost:8080/"
        },
        "id": "3ncXQ0NBuCWl",
        "outputId": "d1251f07-83a3-4284-a215-6631a44eaae8"
      },
      "outputs": [
        {
          "name": "stdout",
          "output_type": "stream",
          "text": [
            "Accuracy before hyperparameter tuning: 0.8001449475427941\n",
            "Accuracy after hyperparameter tuning: 0.8246134732192159\n",
            "Best hyperparameters: {'var_smoothing': 0.12328467394420659}\n"
          ]
        }
      ],
      "source": [
        "# Naive Bayes before tuning hyperparameters\n",
        "gnb_before = GaussianNB()\n",
        "gnb_before.fit(X_train, y_train)\n",
        "y_pred_before = gnb_before.predict(X_test)\n",
        "accuracy_before = accuracy_score(y_test, y_pred_before)\n",
        "print(\"Accuracy before hyperparameter tuning:\", accuracy_before)\n",
        "\n",
        "param_grid = {'var_smoothing': np.logspace(0,-9, num=100)}\n",
        "\n",
        "# Naive Bayes after tuning hyperparameters\n",
        "gnb_after = GridSearchCV(GaussianNB(), param_grid, cv=5)\n",
        "gnb_after.fit(X_train, y_train)\n",
        "y_pred_after = gnb_after.predict(X_test)\n",
        "accuracy_after = accuracy_score(y_test, y_pred_after)\n",
        "print(\"Accuracy after hyperparameter tuning:\", accuracy_after)\n",
        "print(\"Best hyperparameters:\", gnb_after.best_params_)"
      ]
    },
    {
      "cell_type": "markdown",
      "metadata": {
        "id": "F8jgthlHsoRS"
      },
      "source": [
        "## Inference"
      ]
    },
    {
      "cell_type": "markdown",
      "metadata": {
        "id": "SpEUrOzznxtm"
      },
      "source": [
        "**Inference**\n",
        "\n",
        "Hyperparameter tuning improved accuracy slightly for Logistic Regression (from 83.64% to 83.70%) with C=0.1. For Naive Bayes, tuning notably enhanced accuracy (from 80.01% to 82.46%) with var_smoothing=0.123. Logistic Regression performs slightly over Naive Bayes"
      ]
    },
    {
      "cell_type": "markdown",
      "metadata": {
        "id": "EXx-GLAPwKEn"
      },
      "source": [
        "# Non-Linear Models"
      ]
    },
    {
      "cell_type": "markdown",
      "metadata": {
        "id": "kEklLGxcq15s"
      },
      "source": [
        "**Non-Linear Models**\n",
        "\n",
        "\n",
        "Non-linear models capture complex relationships between variables, unlike linear models. Examples include Decision Trees, Neural Networks, and Support Vector Machines with non-linear kernels. They are suitable for data with intricate patterns and interactions."
      ]
    },
    {
      "cell_type": "markdown",
      "metadata": {
        "id": "jeh4G1FjprJ1"
      },
      "source": [
        "**Decision Trees vs Neural Networks**\n",
        "\n",
        "Decision Trees are interpretable, non-linear models suitable for tabular data. Neural Networks are complex, non-linear models capable of learning intricate patterns but less interpretable. Decision Trees excel with smaller datasets and interpretable rules, while Neural Networks perform well with large datasets and complex relationships but require more computational resources.\n"
      ]
    },
    {
      "cell_type": "markdown",
      "metadata": {
        "id": "K3gOGWUvwRpZ"
      },
      "source": [
        "## Decision Trees"
      ]
    },
    {
      "cell_type": "markdown",
      "metadata": {
        "id": "0nCgM04ivBth"
      },
      "source": [
        "**Decision Tree before and after tuning hyperparameters**"
      ]
    },
    {
      "cell_type": "code",
      "execution_count": 27,
      "metadata": {
        "colab": {
          "base_uri": "https://localhost:8080/"
        },
        "id": "xHrp76olwQc6",
        "outputId": "5ed67ef5-1e58-467a-b0cf-dd44032da60f"
      },
      "outputs": [
        {
          "name": "stdout",
          "output_type": "stream",
          "text": [
            "Accuracy before hyperparameter tuning: 0.7768152954168968\n",
            "Accuracy after hyperparameter tuning: 0.8224737713970183\n",
            "Best hyperparameters: {'max_depth': 10, 'max_features': 'auto', 'min_samples_leaf': 1, 'min_samples_split': 10}\n"
          ]
        }
      ],
      "source": [
        "# Decision Tree before tuning hyperparameters\n",
        "dt_before = DecisionTreeClassifier(random_state=42)\n",
        "dt_before.fit(X_train, y_train)\n",
        "y_pred_before = dt_before.predict(X_test)\n",
        "accuracy_before = accuracy_score(y_test, y_pred_before)\n",
        "print(\"Accuracy before hyperparameter tuning:\", accuracy_before)\n",
        "\n",
        "param_grid = {\n",
        "    'max_depth': [None, 5, 10, 15],\n",
        "    'min_samples_split': [2, 5, 10],\n",
        "    'min_samples_leaf': [1, 2, 4],\n",
        "    'max_features': ['auto', 'sqrt', 'log2']\n",
        "}\n",
        "\n",
        "# Decision Tree after tuning hyperparameters\n",
        "dt_after = GridSearchCV(DecisionTreeClassifier(random_state=42), param_grid, cv=5)\n",
        "dt_after.fit(X_train, y_train)\n",
        "y_pred_after = dt_after.predict(X_test)\n",
        "accuracy_after = accuracy_score(y_test, y_pred_after)\n",
        "print(\"Accuracy after hyperparameter tuning:\", accuracy_after)\n",
        "print(\"Best hyperparameters:\", dt_after.best_params_)"
      ]
    },
    {
      "cell_type": "markdown",
      "metadata": {
        "id": "0K1bqGMTx38J"
      },
      "source": [
        "## Neural Netwoks"
      ]
    },
    {
      "cell_type": "markdown",
      "metadata": {
        "id": "Hd3OXOG4vWa3"
      },
      "source": [
        "**Neural Network before and tuning hyperparameters**"
      ]
    },
    {
      "cell_type": "code",
      "execution_count": 28,
      "metadata": {
        "colab": {
          "base_uri": "https://localhost:8080/"
        },
        "id": "Dnq0UgsGx84o",
        "outputId": "4de08f18-c5c7-414d-e563-53e0521fa57c"
      },
      "outputs": [
        {
          "name": "stdout",
          "output_type": "stream",
          "text": [
            "Accuracy before hyperparameter tuning: 0.8473909442297074\n",
            "Accuracy after hyperparameter tuning: 0.8484262838210933\n",
            "Best hyperparameters: {'hidden_layer_sizes': (50,)}\n"
          ]
        }
      ],
      "source": [
        "# Neural Network before tuning hyperparameters\n",
        "mlp_before = MLPClassifier(random_state=42)\n",
        "mlp_before.fit(X_train_scaled, y_train)\n",
        "y_pred_before = mlp_before.predict(X_test_scaled)\n",
        "accuracy_before = accuracy_score(y_test, y_pred_before)\n",
        "print(\"Accuracy before hyperparameter tuning:\", accuracy_before)\n",
        "\n",
        "param_grid =  {\n",
        "    'hidden_layer_sizes': [(50,),(100,)]\n",
        "}\n",
        "\n",
        "# Neural Network after tuning hyperparameters\n",
        "mlp_after = GridSearchCV(MLPClassifier(random_state=42), param_grid,n_jobs=-1, cv=5)\n",
        "mlp_after.fit(X_train_scaled, y_train)\n",
        "y_pred_after = mlp_after.predict(X_test_scaled)\n",
        "accuracy_after = accuracy_score(y_test, y_pred_after)\n",
        "print(\"Accuracy after hyperparameter tuning:\", accuracy_after)\n",
        "print(\"Best hyperparameters:\", mlp_after.best_params_)"
      ]
    },
    {
      "cell_type": "markdown",
      "metadata": {
        "id": "CboWfpw-stLM"
      },
      "source": [
        "## Inference"
      ]
    },
    {
      "cell_type": "markdown",
      "metadata": {
        "id": "W3Yyl6mLple9"
      },
      "source": [
        "**Inference**\n",
        "\n",
        "Hyperparameter tuning notably improved Decision Tree accuracy (from 77.68% to 82.25%) with max_depth=10, max_features='auto', min_samples_leaf=1, min_samples_split=10. For MLP, accuracy slightly increased (from 84.74% to 84.84%) with hidden_layer_sizes=(50,). Decision Tree model has lower accuracy when compared to Neural Network"
      ]
    },
    {
      "cell_type": "markdown",
      "metadata": {
        "id": "fEDnhgS0Arn9"
      },
      "source": [
        "# Hybrid Models"
      ]
    },
    {
      "cell_type": "markdown",
      "metadata": {
        "id": "EpxSjChWq9e3"
      },
      "source": [
        "**Hybrid Models**\n",
        "\n",
        "Hybrid models combine elements of different types of models, such as combining neural networks with decision trees or blending linear and non-linear models. They aim to leverage the strengths of each component to improve overall performance and interpretability."
      ]
    },
    {
      "cell_type": "markdown",
      "metadata": {
        "id": "f8c-MuA8rMn1"
      },
      "source": [
        "**Support Vector Machines vs Bayesian Networks**\n",
        "\n",
        "Support Vector Machines (SVMs) find optimal hyperplanes for classification, suitable for high-dimensional data. Bayesian Networks model probabilistic dependencies between variables using graph structures, offering insights into causality. SVMs are powerful for classification, while Bayesian Networks excel in probabilistic reasoning and causal inference."
      ]
    },
    {
      "cell_type": "markdown",
      "metadata": {
        "id": "fFZjd1brHoTz"
      },
      "source": [
        "## Support Vector Machines"
      ]
    },
    {
      "cell_type": "markdown",
      "metadata": {
        "id": "A_6PBmE0veKA"
      },
      "source": [
        "**Support Vector Machine before and after tuning hyperparameters**"
      ]
    },
    {
      "cell_type": "code",
      "execution_count": 30,
      "metadata": {
        "colab": {
          "base_uri": "https://localhost:8080/"
        },
        "id": "eAtTBKYrH0bi",
        "outputId": "044564a7-c51f-4c36-d395-f0d8b86d78b0"
      },
      "outputs": [
        {
          "name": "stdout",
          "output_type": "stream",
          "text": [
            "Accuracy before hyperparameter tuning: 0.8568\n",
            "Accuracy after hyperparameter tuning: 0.8566\n",
            "Best hyperparameters: {'C': 100, 'gamma': 0.01}\n"
          ]
        }
      ],
      "source": [
        "# Support Vector Machine before tuning hyperparameters\n",
        "svm_before = SVC(random_state=42)\n",
        "svm_before.fit(X_train_scaled, y_train)\n",
        "y_pred_before = svm_before.predict(X_test_scaled)\n",
        "accuracy_before = accuracy_score(y_test, y_pred_before)\n",
        "print(\"Accuracy before hyperparameter tuning:\", accuracy_before)\n",
        "\n",
        "param_grid = {'C': [0.1, 1, 10, 100],\n",
        "              'gamma': [1, 0.1, 0.01, 0.001]}\n",
        "\n",
        "# Support Vector Machine after tuning hyperparameters\n",
        "svm_after = GridSearchCV(SVC(), param_grid, cv=5)\n",
        "svm_after.fit(X_train_scaled, y_train)\n",
        "y_pred_after = svm_after.predict(X_test_scaled)\n",
        "accuracy_after = accuracy_score(y_test, y_pred_after)\n",
        "print(\"Accuracy after hyperparameter tuning:\", accuracy_after)\n",
        "print(\"Best hyperparameters:\", svm_after.best_params_)"
      ]
    },
    {
      "cell_type": "markdown",
      "metadata": {
        "id": "Z23pFMWUJkIK"
      },
      "source": [
        "## Bayesian Network"
      ]
    },
    {
      "cell_type": "code",
      "execution_count": 31,
      "metadata": {
        "colab": {
          "base_uri": "https://localhost:8080/"
        },
        "id": "y2LpYAXQJoJ1",
        "outputId": "92c2252d-790f-4919-f61b-3dcf42a01266"
      },
      "outputs": [
        {
          "name": "stdout",
          "output_type": "stream",
          "text": [
            "Attributes passed to the model ['RainToday', 'MaxTemp', 'Rainfall', 'RainTomorrow']\n",
            "\n",
            " 1. Probability of RainTomorrow given RainToday= 1\n",
            "+-----------------+---------------------+\n",
            "| RainTomorrow    |   phi(RainTomorrow) |\n",
            "+=================+=====================+\n",
            "| RainTomorrow(0) |              0.5124 |\n",
            "+-----------------+---------------------+\n",
            "| RainTomorrow(1) |              0.4876 |\n",
            "+-----------------+---------------------+\n"
          ]
        }
      ],
      "source": [
        "X = df[['RainToday', 'MaxTemp', 'Rainfall','RainTomorrow']]\n",
        "print(\"Attributes passed to the model\",X.columns.tolist())\n",
        "\n",
        "X_train, X_test = train_test_split(X, test_size=0.2, random_state=42)\n",
        "\n",
        "model = BayesianNetwork([\n",
        "    ('RainToday', 'RainTomorrow'),\n",
        "    ('MaxTemp', 'RainTomorrow'),\n",
        "    ('Rainfall', 'RainTomorrow')\n",
        "])\n",
        "\n",
        "model.fit(X_train, estimator=BayesianEstimator, n_jobs=-1)\n",
        "\n",
        "Rain_infer = VariableElimination(model)\n",
        "\n",
        "print('\\n 1. Probability of RainTomorrow given RainToday= 1')\n",
        "q1=Rain_infer.query(variables=['RainTomorrow'],evidence={'RainToday':1})\n",
        "print(q1)\n"
      ]
    },
    {
      "cell_type": "markdown",
      "metadata": {
        "id": "fMXJGK43uGoW"
      },
      "source": [
        "## Inference"
      ]
    },
    {
      "cell_type": "markdown",
      "metadata": {
        "id": "Jj-83N4_uJiy"
      },
      "source": [
        "**Inference**\n",
        "\n",
        "Hyperparameter tuning marginally affected the Support Vector Machine's accuracy, with the best parameters being C=100 and gamma=0.01, maintaining accuracy around 85.68% before and 85.66% after tuning.\n",
        "\n",
        "\n",
        "The given Bayesian Network model predicts the probability of rainfall tomorrow based on today's rain status, maximum temperature, and rainfall. For instance, if it rains today (RainToday=1), the probability of rain tomorrow is approximately 48.76%, otherwise 51.24%."
      ]
    }
  ],
  "metadata": {
    "colab": {
      "provenance": [],
      "toc_visible": true
    },
    "kernelspec": {
      "display_name": "Python 3",
      "name": "python3"
    },
    "language_info": {
      "name": "python"
    }
  },
  "nbformat": 4,
  "nbformat_minor": 0
}
